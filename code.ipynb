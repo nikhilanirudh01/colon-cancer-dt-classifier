{
 "cells": [
  {
   "cell_type": "code",
   "execution_count": 0,
   "metadata": {
    "application/vnd.databricks.v1+cell": {
     "cellMetadata": {
      "byteLimit": 2048000,
      "rowLimit": 10000
     },
     "inputWidgets": {},
     "nuid": "6482be4c-f067-47c9-b0ac-35c938b94601",
     "showTitle": false,
     "tableResultSettingsMap": {},
     "title": ""
    }
   },
   "outputs": [],
   "source": [
    "#import libraries:\n",
    "from pyspark.mllib.tree import DecisionTree as DT, DecisionTreeModel as DTM\n",
    "from pyspark.mllib.util import MLUtils\n",
    "\n",
    "#import dataset:\n",
    "colonCancer_data = MLUtils.loadLibSVMFile(sc, '/FileStore/tables/colon_cancer_01-2.txt')\n",
    "\n",
    "#split the data for testing and training:\n",
    "(train_data, test_data) = colonCancer_data.randomSplit([0.7, 0.3])\n",
    "\n",
    "#Train the model using Decison Tree:\n",
    "decisionModel = DT.trainClassifier(train_data, numClasses = 2, categoricalFeaturesInfo= {}, impurity = 'entropy', maxDepth = 20, maxBins = 32)\n",
    "\n",
    "#Test the data:\n",
    "decisionPrediction = decisionModel.predict(test_data.map(lambda x: x.features))\n",
    "label_predic = test_data.map(lambda lp: lp.label).zip(decisionPrediction)\n",
    "test_Error = label_predic.filter(lambda lp : lp[0] != lp[1]).count() / float(test_data.count())\n",
    "\n",
    "#print the results:\n",
    "print('Test Error obtained = ' + str(test_Error))\n",
    "print('Learned Classification Tree:')\n",
    "print(decisionModel.toDebugString)\n",
    "\n",
    "# OPTIONAL - Saves the trained model to disk and reloads it later\n",
    "#decisionModel.save(sc, \"target/tmp/myDecisionTreeClassificationModel\")\n",
    "#sameModel = DTM.load(sc, \"target/tmp/DecisionTreeClassificationModel\"))"
   ]
  }
 ],
 "metadata": {
  "application/vnd.databricks.v1+notebook": {
   "computePreferences": null,
   "dashboards": [],
   "environmentMetadata": null,
   "inputWidgetPreferences": null,
   "language": "python",
   "notebookMetadata": {
    "pythonIndentUnit": 4
   },
   "notebookName": "IFT511_Lab15- Part 1",
   "widgets": {}
  }
 },
 "nbformat": 4,
 "nbformat_minor": 0
}